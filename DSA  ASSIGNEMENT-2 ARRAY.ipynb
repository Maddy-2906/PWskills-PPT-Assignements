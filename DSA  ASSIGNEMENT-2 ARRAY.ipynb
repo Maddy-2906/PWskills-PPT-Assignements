{
 "cells": [
  {
   "cell_type": "markdown",
   "id": "a7c8e8e3-0b26-4a01-89bd-da81c1107f26",
   "metadata": {},
   "source": [
    "### **Question 1** Given an integer array nums of 2n integers, group these integers into n pairs (a1, b1), (a2, b2),..., (an, bn) such that the sum of min(ai, bi) for all i is maximized. Return the maximized sum.\n",
    "\n",
    "### **Example 1:**\n",
    "- Input: nums = [1,4,3,2]\n",
    "- Output: 4\n",
    "\n",
    "### **Explanation:** All possible pairings (ignoring the ordering of elements) are:\n",
    "\n",
    "- 1. (1, 4), (2, 3) -> min(1, 4) + min(2, 3) = 1 + 2 = 3\n",
    "- 2. (1, 3), (2, 4) -> min(1, 3) + min(2, 4) = 1 + 2 = 3\n",
    "- 3. (1, 2), (3, 4) -> min(1, 2) + min(3, 4) = 1 + 3 = 4\n",
    "So the maximum possible sum is 4\n"
   ]
  },
  {
   "cell_type": "markdown",
   "id": "de6bb426-a4d0-4cfe-abac-542195d9fa43",
   "metadata": {},
   "source": [
    "### Ans:-  nums = [1, 4, 3, 2].\n",
    "\n",
    "1. Sorting the array: [1, 2, 3, 4]\n",
    "2. Pairing consecutive elements: (1, 2), (3, 4)\n",
    "3. Summing the minimums: min(1, 2) + min(3, 4) = 1 + 3 = 4\n",
    "\n",
    "Therefore, the maximum possible sum is 4."
   ]
  },
  {
   "cell_type": "code",
   "execution_count": 8,
   "id": "0d8337aa-47cf-47be-bf71-b732b5d8d800",
   "metadata": {},
   "outputs": [
    {
     "name": "stdout",
     "output_type": "stream",
     "text": [
      "4\n"
     ]
    }
   ],
   "source": [
    "def array_pair_sum(nums):\n",
    "    nums.sort()  # Sort the array in ascending order\n",
    "    pair_sum = 0\n",
    "    for i in range(0, len(nums), 2):\n",
    "        pair_sum += nums[i]\n",
    "    return pair_sum\n",
    "# Example usage\n",
    "nums = [1, 4, 3, 2]\n",
    "result = array_pair_sum(nums)\n",
    "print(result)"
   ]
  },
  {
   "cell_type": "markdown",
   "id": "918657ec-7595-47be-b158-2b5d3956ffc0",
   "metadata": {},
   "source": [
    "### Question 2 :- Alice has n candies, where the ith candy is of type candyType[i]. Alice noticed that she started to gain weight, so she visited a doctor. \n",
    "\n",
    "The doctor advised Alice to only eat n / 2 of the candies she has (n is always even). Alice likes her candies very much, and she wants to eat the maximum number of different types of candies while still following the doctor's advice. \n",
    "\n",
    "Given the integer array candyType of length n, return the maximum number of different types of candies she can eat if she only eats n / 2 of them.\n",
    "\n",
    "- Example 1:\n",
    "- Input: candyType = [1,1,2,2,3,3]\n",
    "- Output: 3\n",
    "\n",
    "Explanation: Alice can only eat 6 / 2 = 3 candies. Since there are only 3 types, she can eat one of each type."
   ]
  },
  {
   "cell_type": "markdown",
   "id": "ac03b06a-04c5-4eb1-867c-4df47a9af770",
   "metadata": {},
   "source": [
    "### Ans:- candyType = [1, 1, 2, 2, 3, 3].\n",
    "\n",
    "1. Creating a set of unique candy types: {1, 2, 3}. There are 3 unique types.\n",
    "\n",
    "2. Calculating n/2: 6/2 = 3.\n",
    "\n",
    "3. Since there are only 3 unique types, which is equal to n/2, Alice can eat one of each type.\n",
    "\n",
    "Therefore, the maximum number of different types of candies Alice can eat is 3."
   ]
  },
  {
   "cell_type": "code",
   "execution_count": 11,
   "id": "c5ed10c6-4bb9-4606-809b-8687e6087be4",
   "metadata": {},
   "outputs": [
    {
     "name": "stdout",
     "output_type": "stream",
     "text": [
      "3\n"
     ]
    }
   ],
   "source": [
    "def max_candies(candyType):\n",
    "    unique_candies = set(candyType)  # Set of unique candy types\n",
    "    max_types = min(len(unique_candies), len(candyType) // 2)\n",
    "    return max_types\n",
    "# Example usage\n",
    "candyType = [1,1,2,2,3,3]\n",
    "result =  max_candies(candyType)\n",
    "print(result)"
   ]
  },
  {
   "cell_type": "markdown",
   "id": "f32f5a7e-4513-4058-8f3a-76a01067455b",
   "metadata": {},
   "source": [
    "### Question 3 :- We define a harmonious array as an array where the difference between its maximum value and its minimum value is exactly 1.\n",
    "\n",
    "Given an integer array nums, return the length of its longest harmonious subsequence\n",
    "among all its possible subsequences.\n",
    "\n",
    "A subsequence of an array is a sequence that can be derived from the array by deleting some or no elements without changing the order of the remaining elements.\n",
    "\n",
    "- Example 1:\n",
    "- Input: nums = [1,3,2,2,5,2,3,7]\n",
    "- Output: 5\n",
    "\n",
    "Explanation: The longest harmonious subsequence is [3,2,2,2,3]."
   ]
  },
  {
   "cell_type": "markdown",
   "id": "5970088a-1c27-4953-94aa-e015990a7058",
   "metadata": {},
   "source": [
    "### Ans:- nums = [1, 3, 2, 2, 5, 2, 3, 7].\n",
    "\n",
    "1. Counting the frequency of each number:\n",
    "\n",
    "- {1: 1, 3: 2, 2: 3, 5: 1, 7: 1}\n",
    "Checking for harmonious subsequences:\n",
    "\n",
    "- For num = 1, there is no num + 1 in the dictionary.\n",
    "- For num = 3, there is num + 1 = 4 in the dictionary, but it's not present.\n",
    "- For num = 2, there is num + 1 = 3 in the dictionary, and the frequencies are 3 and 2, respectively. So the length of the harmonious subsequence is 3 + 2 = 5.\n",
    "- For num = 5, there is no num + 1 in the dictionary.\n",
    "- For num = 7, there is no num + 1 in the dictionary.\n",
    "- The longest harmonious subsequence has a length of 5.\n",
    "\n",
    "Therefore, the output is 5."
   ]
  },
  {
   "cell_type": "code",
   "execution_count": 16,
   "id": "5fb52935-9f08-4847-89f8-04a432ef18b5",
   "metadata": {},
   "outputs": [
    {
     "name": "stdout",
     "output_type": "stream",
     "text": [
      "5\n"
     ]
    }
   ],
   "source": [
    "def findLHS(nums):\n",
    "    freq = {} # Dictionary to store number frequency\n",
    "    result = 0\n",
    "    \n",
    "    # count the frequency of ezch number\n",
    "    for num in nums:\n",
    "        freq[num] = freq.get(num,0) + 1\n",
    "        \n",
    "    # Check the harmonious  subsequences\n",
    "    for num in freq:\n",
    "        if num + 1 in freq:\n",
    "            result = max(result, freq[num] + freq[num+1])\n",
    "            \n",
    "    return result  \n",
    "# Example usage\n",
    "nums = [1,3,2,2,5,2,3,7]\n",
    "result =  findLHS(nums)\n",
    "print(result)\n"
   ]
  },
  {
   "cell_type": "markdown",
   "id": "e5fa6b3b-e3a0-40b6-a3d1-be43505bb47b",
   "metadata": {},
   "source": [
    "### Question 4:-You have a long flowerbed in which some of the plots are planted, and some are not.\n",
    "However, flowers cannot be planted in adjacent plots.\n",
    "Given an integer array flowerbed containing 0's and 1's, where 0 means empty and 1 means not empty, and an integer n, return true if n new flowers can be planted in the flowerbed without violating the no-adjacent-flowers rule and false otherwise.\n",
    "\n",
    "- Example 1:\n",
    "- Input: flowerbed = [1,0,0,0,1], n = 1\n",
    "- Output: true"
   ]
  },
  {
   "cell_type": "code",
   "execution_count": 21,
   "id": "b94878bd-2bf6-4372-928d-bb54bf46ab63",
   "metadata": {},
   "outputs": [
    {
     "name": "stdout",
     "output_type": "stream",
     "text": [
      "True\n"
     ]
    }
   ],
   "source": [
    "def can_place_flowers(flowerbed, n=1):\n",
    "    count = 0\n",
    "    length = len(flowerbed)\n",
    "    i = 0\n",
    "\n",
    "    while i < length:\n",
    "        if (\n",
    "            flowerbed[i] == 0 and\n",
    "            (i == 0 or flowerbed[i - 1] == 0) and\n",
    "            (i == length - 1 or flowerbed[i + 1] == 0)\n",
    "        ):\n",
    "            flowerbed[i] = 1\n",
    "            count += 1\n",
    "            if count >= n:\n",
    "                return True\n",
    "        i += 1\n",
    "\n",
    "    return False\n",
    "\n",
    "# Example usage\n",
    "flowerbed = [1,0,0,0,1]\n",
    "n = 1\n",
    "result = can_place_flowers(flowerbed)\n",
    "print(result)\n"
   ]
  },
  {
   "cell_type": "markdown",
   "id": "72c086c3-4360-4b8e-b8e6-c99d8e8fcb94",
   "metadata": {},
   "source": [
    "### Question 5:- Given an integer array nums, find three numbers whose product is maximum and return the maximum product.\n",
    "\n",
    "- Example 1:\n",
    "- Input: nums = [1,2,3]\n",
    "- Output: 6"
   ]
  },
  {
   "cell_type": "markdown",
   "id": "21084929-36d2-4a1c-b59c-7cda0cd795e7",
   "metadata": {},
   "source": [
    "### Ans:- : nums = [1, 2, 3].\n",
    "\n",
    "1. Sorting the array: nums = [1, 2, 3].\n",
    "\n",
    "2. Calculating the maximum product from the two scenarios:\n",
    "\n",
    "- Scenario 1: 3 * 2 * 1 = 6.\n",
    "- Scenario 2: 1 * 2 * 3 = 6.\n",
    "3. The maximum product among the two scenarios is 6.\n",
    "\n",
    "Therefore, the output is 6."
   ]
  },
  {
   "cell_type": "code",
   "execution_count": 22,
   "id": "aa1fce1a-21d9-402c-8fd2-89940f11b581",
   "metadata": {},
   "outputs": [
    {
     "name": "stdout",
     "output_type": "stream",
     "text": [
      "6\n"
     ]
    }
   ],
   "source": [
    "def maximum_product(nums):\n",
    "    nums.sort()\n",
    "    n = len(nums)\n",
    "    return max(nums[n-1] * nums[n-2] * nums[n-3], nums[0] * nums[1] * nums[n-1])\n",
    " \n",
    "#Example\n",
    "nums = [1,2,3]\n",
    "result = maximum_product(nums)\n",
    "print(result)\n"
   ]
  },
  {
   "cell_type": "markdown",
   "id": "62d59717-c240-4e69-a4dd-020c57bc3005",
   "metadata": {},
   "source": [
    "### Question 6:- Given an array of integers nums which is sorted in ascending order, and an integer target,\n",
    "write a function to search target in nums. If target exists, then return its index. Otherwise,\n",
    "return -1.\n",
    "\n",
    "You must write an algorithm with O(log n) runtime complexity.\n",
    "\n",
    "- Input: nums = [-1,0,3,5,9,12], target = 9\n",
    "- Output: 4\n",
    "\n",
    "Explanation: 9 exists in nums and its index is 4"
   ]
  },
  {
   "cell_type": "markdown",
   "id": "81d1cd78-e39c-42d0-88a6-ab832bbb5f47",
   "metadata": {},
   "source": [
    "### Ans:- nums = [-1, 0, 3, 5, 9, 12] and target = 9.\n",
    "\n",
    "1. Initializing left = 0 and right = 5.\n",
    "\n",
    "2. Iterating using binary search:\n",
    "\n",
    "- For the first iteration, mid = 2 (rounded down from (0 + 5) // 2).\n",
    "\n",
    "- nums[2] = 3 is less than the target.\n",
    "- We update left = 3.\n",
    "- For the second iteration, mid = 4 (rounded down from (3 + 5) // 2).\n",
    "\n",
    "- nums[4] = 9 matches the target.\n",
    "- We return 4.\n",
    "3.  The target 9 is found at index 4.\n",
    "\n",
    "Therefore, the output is 4."
   ]
  },
  {
   "cell_type": "code",
   "execution_count": 23,
   "id": "7c6b26bd-7d3c-4423-973a-1339c827ae79",
   "metadata": {},
   "outputs": [
    {
     "name": "stdout",
     "output_type": "stream",
     "text": [
      "4\n"
     ]
    }
   ],
   "source": [
    "def search(nums, target):\n",
    "    left = 0\n",
    "    right = len(nums) - 1\n",
    "\n",
    "    while left <= right:\n",
    "        mid = left + (right - left) // 2\n",
    "\n",
    "        if nums[mid] == target:\n",
    "            return mid\n",
    "        elif nums[mid] < target:\n",
    "            left = mid + 1\n",
    "        else:\n",
    "            right = mid - 1\n",
    "\n",
    "    return -1\n",
    "\n",
    "#Example\n",
    "nums = [-1,0,3,5,9,12]\n",
    "target = 9\n",
    "result = search(nums,target)\n",
    "print(result)"
   ]
  },
  {
   "cell_type": "markdown",
   "id": "1bfdd876-59db-4915-8871-51c0b1824c3f",
   "metadata": {},
   "source": [
    "### Question 7:- An array is monotonic if it is either monotone increasing or monotone decreasing.\n",
    "\n",
    "An array nums is monotone increasing if for all i <= j, nums[i] <= nums[j]. An array nums is\n",
    "monotone decreasing if for all i <= j, nums[i] >= nums[j].\n",
    "\n",
    "Given an integer array nums, return true if the given array is monotonic, or false otherwise.\n",
    "\n",
    "- Example 1:\n",
    "- Input: nums = [1,2,2,3]\n",
    "- Output: true"
   ]
  },
  {
   "cell_type": "code",
   "execution_count": 25,
   "id": "e8b8f9f7-fc25-48a7-997d-159f3ec05bb5",
   "metadata": {},
   "outputs": [
    {
     "name": "stdout",
     "output_type": "stream",
     "text": [
      "True\n"
     ]
    }
   ],
   "source": [
    "def is_monotonic(nums):\n",
    "    increasing = decreasing = True\n",
    "\n",
    "    for i in range(1, len(nums)):\n",
    "        if nums[i] < nums[i - 1]:\n",
    "            increasing = False\n",
    "        if nums[i] > nums[i - 1]:\n",
    "            decreasing = False\n",
    "\n",
    "    return increasing or decreasing\n",
    "\n",
    "## Example\n",
    "nums = [1,2,2,3]\n",
    "result = is_monotonic(nums)\n",
    "print(result)"
   ]
  },
  {
   "cell_type": "markdown",
   "id": "bc689612-9ab8-4554-a22c-305096876d8c",
   "metadata": {},
   "source": [
    "### Question 8:-  You are given an integer array nums and an integer k.\n",
    "\n",
    "In one operation, you can choose any index i where 0 <= i < nums.length and change nums[i] to nums[i] + x where x is an integer from the range [-k, k]. You can apply this operation at most once for each index i.\n",
    "\n",
    "The score of nums is the difference between the maximum and minimum elements in nums.\n",
    "\n",
    "Return the minimum score of nums after applying the mentioned operation at most once for each index in it.\n",
    "\n",
    "- Example 1:\n",
    "- Input: nums = [1], k = 0\n",
    "- Output: 0\n",
    "\n",
    "Explanation: The score is max(nums) - min(nums) = 1 - 1 = 0."
   ]
  },
  {
   "cell_type": "code",
   "execution_count": 26,
   "id": "d277d502-2756-4a82-a5c6-c03b2e5c6260",
   "metadata": {},
   "outputs": [
    {
     "name": "stdout",
     "output_type": "stream",
     "text": [
      "0\n"
     ]
    }
   ],
   "source": [
    "def minimum_score(nums, k):\n",
    "    n = len(nums)\n",
    "    nums.sort()  # Sort the array in ascending order\n",
    "\n",
    "    # Modify the maximum and minimum elements\n",
    "    nums[0] += k\n",
    "    nums[n-1] -= k\n",
    "\n",
    "    # Calculate the difference between the modified maximum and minimum elements\n",
    "    score = nums[n-1] - nums[0]\n",
    "\n",
    "    # Check if there are any negative differences\n",
    "    if score < 0:\n",
    "        score = 0\n",
    "\n",
    "    return score\n",
    "## Example\n",
    "nums = [1]\n",
    "k = 0\n",
    "result = minimum_score(nums,k)\n",
    "print(result)"
   ]
  },
  {
   "cell_type": "code",
   "execution_count": null,
   "id": "40380d52-7f7a-4369-b504-ab2520f741b3",
   "metadata": {},
   "outputs": [],
   "source": []
  }
 ],
 "metadata": {
  "kernelspec": {
   "display_name": "Python 3 (ipykernel)",
   "language": "python",
   "name": "python3"
  },
  "language_info": {
   "codemirror_mode": {
    "name": "ipython",
    "version": 3
   },
   "file_extension": ".py",
   "mimetype": "text/x-python",
   "name": "python",
   "nbconvert_exporter": "python",
   "pygments_lexer": "ipython3",
   "version": "3.10.8"
  }
 },
 "nbformat": 4,
 "nbformat_minor": 5
}
