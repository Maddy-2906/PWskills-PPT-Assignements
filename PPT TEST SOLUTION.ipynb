{
 "cells": [
  {
   "cell_type": "markdown",
   "id": "8b5af1e5-96ba-40f0-9ac6-022e30869be5",
   "metadata": {},
   "source": [
    "### Move Zeroes\n",
    "Given an integer array nums, move all 0's to the end of it while maintaining the relative order of the non-zero elements.\n",
    "\n",
    "Note that you must do this in-place without making a copy of the array.\n",
    "\n",
    "Example 1:\n",
    "Input: nums = [0,1,0,3,12]\n",
    "Output: [1,3,12,0,0]\n",
    "\n",
    "Example 2:\n",
    "Input: nums = [0]\n",
    "Output: [0]\n",
    "\n",
    "Constraints:\n",
    "a. 1 <= nums.length <= 10^4\n",
    "b. -2^31 <= nums[i] <= 2^31 - 1\n"
   ]
  },
  {
   "cell_type": "code",
   "execution_count": 4,
   "id": "f5a1c258-b88e-4693-b1a4-59aeec93082f",
   "metadata": {},
   "outputs": [
    {
     "name": "stdout",
     "output_type": "stream",
     "text": [
      "[1, 3, 12, 0, 0]\n",
      "[0]\n"
     ]
    }
   ],
   "source": [
    "def moveZeroes(nums):\n",
    "    \"\"\"\n",
    "    Function to move all zeroes to the end of the array while maintaining the order of non-zero elements.\n",
    "    \"\"\"\n",
    "    # Initialize two pointers: one for iterating through the array and another for keeping track of the last non-zero element index\n",
    "    last_non_zero_element = 0\n",
    "\n",
    "    # Iterate through the array\n",
    "    for i in range(len(nums)):\n",
    "        # If the current element is non-zero, swap it with the element at the last non-zero element index\n",
    "        if nums[i] != 0:\n",
    "            nums[i], nums[last_non_zero_element] = nums[last_non_zero_element], nums[i]\n",
    "            last_non_zero_element += 1\n",
    "\n",
    "    # The non-zero elements have been moved to the front of the array,\n",
    "    # so all the elements after the last_non_zero_element index are zeroes.\n",
    "\n",
    "# Test the code with the given examples\n",
    "nums = [0, 1, 0, 3, 12]\n",
    "moveZeroes(nums)\n",
    "print(nums)  # Output: [1, 3, 12, 0, 0]\n",
    "\n",
    "nums = [0]\n",
    "moveZeroes(nums)\n",
    "print(nums)  # Output: [0]\n"
   ]
  },
  {
   "cell_type": "markdown",
   "id": "722275c8-7261-4112-9ab6-ee66ced36ef7",
   "metadata": {},
   "source": [
    "### First Unique Character in a String\n",
    "\n",
    "Given a string s, find the first non-repeating character in it and return its index. If it does not exist, return -1.\n",
    "\n",
    "Example 1:\n",
    "Input: s = \"leetcode\"\n",
    "Output: 0\n",
    "\n",
    "Example 2:\n",
    "Input: s = \"loveleetcode\"\n",
    "Output: 2\n",
    "\n",
    "Example 3:\n",
    "Input: s = \"aabb\"\n",
    "Output: -1\n",
    "\n",
    "Constraints:\n",
    "a. 1 <= s.length <= 10^5\n",
    "b. s consists of only lowercase English letters.\n"
   ]
  },
  {
   "cell_type": "code",
   "execution_count": 2,
   "id": "05011cec-f171-490f-a0c5-6706967863d7",
   "metadata": {},
   "outputs": [
    {
     "name": "stdout",
     "output_type": "stream",
     "text": [
      "0\n",
      "2\n",
      "-1\n"
     ]
    }
   ],
   "source": [
    "def firstUniqChar(s):\n",
    "    \"\"\"\n",
    "    Function to find the index of the first non-repeating character in a string.\n",
    "    \"\"\"\n",
    "    # Create a dictionary to store the count of each character\n",
    "    char_count = {}\n",
    "\n",
    "    # Count the occurrence of each character in the string\n",
    "    for char in s:\n",
    "        char_count[char] = char_count.get(char, 0) + 1\n",
    "\n",
    "    # Iterate through the string to find the first non-repeating character\n",
    "    for i in range(len(s)):\n",
    "        if char_count[s[i]] == 1:\n",
    "            return i\n",
    "\n",
    "    # If no non-repeating character is found, return -1\n",
    "    return -1\n",
    "\n",
    "# Test the code with the given examples\n",
    "s = \"leetcode\"\n",
    "print(firstUniqChar(s))  # Output: 0\n",
    "\n",
    "s = \"loveleetcode\"\n",
    "print(firstUniqChar(s))  # Output: 2\n",
    "\n",
    "s = \"aabb\"\n",
    "print(firstUniqChar(s))  # Output: -1\n"
   ]
  },
  {
   "cell_type": "code",
   "execution_count": null,
   "id": "81255ecd-4333-42de-8551-303493c4f51e",
   "metadata": {},
   "outputs": [],
   "source": []
  }
 ],
 "metadata": {
  "kernelspec": {
   "display_name": "Python 3 (ipykernel)",
   "language": "python",
   "name": "python3"
  },
  "language_info": {
   "codemirror_mode": {
    "name": "ipython",
    "version": 3
   },
   "file_extension": ".py",
   "mimetype": "text/x-python",
   "name": "python",
   "nbconvert_exporter": "python",
   "pygments_lexer": "ipython3",
   "version": "3.10.8"
  }
 },
 "nbformat": 4,
 "nbformat_minor": 5
}
