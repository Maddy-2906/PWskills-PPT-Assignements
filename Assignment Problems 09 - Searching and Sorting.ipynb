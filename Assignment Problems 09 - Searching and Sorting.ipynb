{
 "cells": [
  {
   "cell_type": "markdown",
   "id": "19a09136-8159-4ac4-919d-ceb318039043",
   "metadata": {},
   "source": [
    "### 1.Given a 1-indexed array of integers numbers that are already sorted in non-decreasing order, find two numbers such that they add up to a specific target number. Let these two numbers be numbers[index1] and numbers[index2] where 1 <= index1 < index2 < numbers.length.\n",
    "Return the indices of the two numbers, index1, and index2, added by one as an integer array [index1, index2] of length 2.\n",
    "The tests are generated such that there is exactly one solution. You may not use the same element twice.\n",
    "Your solution must use only constant extra space.\n",
    "\n",
    "Input: numbers = [2,7,11,15], target = 9\n",
    "\n",
    "Output: [1,2]\n",
    "\n",
    "Explanation: The sum of 2 and 7 is 9. Therefore, index1 = 1, index2 = 2. We return [1, 2].\n"
   ]
  },
  {
   "cell_type": "markdown",
   "id": "927c6eab-af24-4631-8082-8be0ca14d090",
   "metadata": {},
   "source": [
    "### use a two-pointer approach"
   ]
  },
  {
   "cell_type": "code",
   "execution_count": 1,
   "id": "92b0387c-37da-4345-9a22-e9b82a62cd74",
   "metadata": {},
   "outputs": [
    {
     "name": "stdout",
     "output_type": "stream",
     "text": [
      "[1, 2]\n"
     ]
    }
   ],
   "source": [
    "def two_sum(numbers, target):\n",
    "    left, right = 0, len(numbers) - 1\n",
    "    \n",
    "    while left < right:\n",
    "        current_sum = numbers[left] + numbers[right]\n",
    "        \n",
    "        if current_sum == target:\n",
    "            return [left + 1, right + 1]  # Adding 1 to the indices since they are 1-indexed\n",
    "        elif current_sum < target:\n",
    "            left += 1\n",
    "        else:\n",
    "            right -= 1\n",
    "    \n",
    "    # It's guaranteed that there is exactly one solution, so this line should never be reached.\n",
    "    return []\n",
    "\n",
    "# Test the function\n",
    "numbers = [2, 7, 11, 15]\n",
    "target = 9\n",
    "result = two_sum(numbers, target)\n",
    "print(result)  # Output: [1, 2]\n"
   ]
  },
  {
   "cell_type": "markdown",
   "id": "196de8f6-9ef4-4d03-9cc1-ae15af41f325",
   "metadata": {},
   "source": [
    "### 2.Given an array of integer nums sorted in non-decreasing order, find the starting and ending position of a given target value.\n",
    "If the target is not found in the array, return [-1, -1].\n",
    "\n",
    "You must write an algorithm with O(log n) runtime complexity\n",
    "\n",
    "Input: nums = [5,7,7,8,8,10], target = 8\n",
    "\n",
    "Output: [3,4]\n"
   ]
  },
  {
   "cell_type": "markdown",
   "id": "3b57effe-f157-4877-ad6f-64a448264e0f",
   "metadata": {},
   "source": [
    "###  use a modified binary search algorithm"
   ]
  },
  {
   "cell_type": "code",
   "execution_count": 2,
   "id": "3812eb4b-e82d-4c71-bfd4-be2bfe816c81",
   "metadata": {},
   "outputs": [
    {
     "name": "stdout",
     "output_type": "stream",
     "text": [
      "[3, 4]\n"
     ]
    }
   ],
   "source": [
    "def searchRange(nums, target):\n",
    "    def binary_search_leftmost(nums, target):\n",
    "        left, right = 0, len(nums) - 1\n",
    "        result = -1\n",
    "        \n",
    "        while left <= right:\n",
    "            mid = left + (right - left) // 2\n",
    "            if nums[mid] >= target:\n",
    "                right = mid - 1\n",
    "            else:\n",
    "                left = mid + 1\n",
    "            if nums[mid] == target:\n",
    "                result = mid\n",
    "        \n",
    "        return result\n",
    "\n",
    "    def binary_search_rightmost(nums, target):\n",
    "        left, right = 0, len(nums) - 1\n",
    "        result = -1\n",
    "        \n",
    "        while left <= right:\n",
    "            mid = left + (right - left) // 2\n",
    "            if nums[mid] <= target:\n",
    "                left = mid + 1\n",
    "            else:\n",
    "                right = mid - 1\n",
    "            if nums[mid] == target:\n",
    "                result = mid\n",
    "        \n",
    "        return result\n",
    "\n",
    "    start = binary_search_leftmost(nums, target)\n",
    "    end = binary_search_rightmost(nums, target)\n",
    "\n",
    "    return [start, end]\n",
    "\n",
    "# Test the function\n",
    "nums = [5, 7, 7, 8, 8, 10]\n",
    "target = 8\n",
    "result = searchRange(nums, target)\n",
    "print(result)  # Output: [3, 4]\n"
   ]
  },
  {
   "cell_type": "markdown",
   "id": "eb1048b2-f482-497a-829f-6678415f04f0",
   "metadata": {},
   "source": [
    "### 3.A peak element is an element that is strictly greater than its neighbors.Given a 0-indexed integer array nums, find a peak element, and return its index. If the array contains multiple peaks, return the index to any of the peaks.\n",
    "You may imagine that nums[-1] = nums[n] = -∞. In other words, an element is always considered to be strictly greater than a neighbor that is outside the array.\n",
    "You must write an algorithm that runs in O(log n) time.\n",
    "\n",
    "Input: nums = [1,2,3,1]\n",
    "\n",
    "Output: 2\n",
    "\n",
    "Explanation: 3 is a peak element and your function should return the index number 2."
   ]
  },
  {
   "cell_type": "markdown",
   "id": "78f09d18-be8a-473f-bc00-a6d7b9c46098",
   "metadata": {},
   "source": [
    "### use a binary search algorithm "
   ]
  },
  {
   "cell_type": "code",
   "execution_count": 3,
   "id": "67c4619c-68a1-4a6d-a6b3-5d1892485c3a",
   "metadata": {},
   "outputs": [
    {
     "name": "stdout",
     "output_type": "stream",
     "text": [
      "2\n"
     ]
    }
   ],
   "source": [
    "def findPeakElement(nums):\n",
    "    left, right = 0, len(nums) - 1\n",
    "    \n",
    "    while left < right:\n",
    "        mid = left + (right - left) // 2\n",
    "        \n",
    "        if nums[mid] < nums[mid + 1]:\n",
    "            left = mid + 1\n",
    "        else:\n",
    "            right = mid\n",
    "    \n",
    "    return left\n",
    "\n",
    "# Test the function\n",
    "nums = [1, 2, 3, 1]\n",
    "result = findPeakElement(nums)\n",
    "print(result)  # Output: 2\n"
   ]
  },
  {
   "cell_type": "markdown",
   "id": "124904d2-93be-4bf6-b568-8fd769a0ba87",
   "metadata": {},
   "source": [
    "### 4.Given a sorted array of distinct integers and a target value, return the index if the target is found. If not, return the index where it would be if it were inserted in order.\n",
    "You must write an algorithm with O(log n) runtime complexity.\n",
    "\n",
    "Input: nums = [1,3,5,6], target = 5\n",
    "\n",
    "Output: 2\n",
    "\n",
    "Input: nums = [1,3,5,6], target = 7\n",
    "\n",
    "Output: 4\n"
   ]
  },
  {
   "cell_type": "markdown",
   "id": "a9341e73-f435-4edd-ab8c-f42560e4ed4a",
   "metadata": {},
   "source": [
    "###  use a modified binary search algorithm."
   ]
  },
  {
   "cell_type": "code",
   "execution_count": 4,
   "id": "87ffc428-c951-4214-8d8a-22922c0eff65",
   "metadata": {},
   "outputs": [
    {
     "name": "stdout",
     "output_type": "stream",
     "text": [
      "2\n",
      "4\n"
     ]
    }
   ],
   "source": [
    "def searchInsert(nums, target):\n",
    "    left, right = 0, len(nums)\n",
    "    \n",
    "    while left < right:\n",
    "        mid = left + (right - left) // 2\n",
    "        \n",
    "        if nums[mid] == target:\n",
    "            return mid\n",
    "        elif nums[mid] < target:\n",
    "            left = mid + 1\n",
    "        else:\n",
    "            right = mid\n",
    "    \n",
    "    return left\n",
    "\n",
    "# Test the function\n",
    "nums = [1, 3, 5, 6]\n",
    "target = 5\n",
    "output = searchInsert(nums, target)\n",
    "print(output)  # Output: 2\n",
    "\n",
    "target = 7\n",
    "output = searchInsert(nums, target)\n",
    "print(output)  # Output: 4\n"
   ]
  },
  {
   "cell_type": "markdown",
   "id": "3b04b9bd-7b6c-4067-b31b-1f3b336b58c1",
   "metadata": {},
   "source": [
    "### 5.Find the majority element in the array. A majority element in an array A[] of size n is an element that appears more than n/2 times (and hence there is at most one such element). \n",
    "\n",
    "Input: A[]={3, 3, 4, 2, 4, 4, 2, 4, 4}\n",
    "\n",
    "Output: 4\n",
    "\n",
    "Explanation: The frequency of 4 is 5 which is greater than half of the size of the array size. "
   ]
  },
  {
   "cell_type": "markdown",
   "id": "4d650394-bfc9-4cd3-9eee-38b21a42a9f2",
   "metadata": {},
   "source": [
    "### use Moore's Voting Algorithm"
   ]
  },
  {
   "cell_type": "code",
   "execution_count": 5,
   "id": "630e03ed-bf92-4de1-af9e-229a006c3475",
   "metadata": {},
   "outputs": [
    {
     "name": "stdout",
     "output_type": "stream",
     "text": [
      "4\n"
     ]
    }
   ],
   "source": [
    "def findMajorityElement(nums):\n",
    "    candidate = None\n",
    "    count = 0\n",
    "\n",
    "    for num in nums:\n",
    "        if count == 0:\n",
    "            candidate = num\n",
    "            count = 1\n",
    "        elif num == candidate:\n",
    "            count += 1\n",
    "        else:\n",
    "            count -= 1\n",
    "\n",
    "    # Verify if the candidate is the majority element\n",
    "    count = 0\n",
    "    for num in nums:\n",
    "        if num == candidate:\n",
    "            count += 1\n",
    "\n",
    "    if count > len(nums) // 2:\n",
    "        return candidate\n",
    "    else:\n",
    "        return None  # There is no majority element\n",
    "\n",
    "# Test the function\n",
    "nums = [3, 3, 4, 2, 4, 4, 2, 4, 4]\n",
    "output = findMajorityElement(nums)\n",
    "print(output)  # Output: 4\n"
   ]
  },
  {
   "cell_type": "markdown",
   "id": "21964644-9274-4ddd-a2ff-88707cba96a3",
   "metadata": {},
   "source": [
    "### You are a product manager and currently leading a team to develop a new product. Unfortunately, the latest version of your product fails the quality check. Since each version is developed based on the previous version, all the versions after a bad version are also bad.\n",
    "Suppose you have n versions [1, 2, ..., n] and you want to find out the first bad one, which causes all the following ones to be bad.\n",
    "You are given an API bool isBadVersion(version) which returns whether the version is bad. Implement a function to find the first bad version. You should minimize the number of calls to the API.\n",
    "\n",
    "Input: n = 5, bad = 4\n",
    "\n",
    "Output: 4\n",
    "\n",
    "Explanation:\n",
    "\n",
    "call isBadVersion(3) -> false\n",
    "\n",
    "call isBadVersion(5) -> true\n",
    "\n",
    "call isBadVersion(4) -> true\n",
    "\n",
    "Then 4 is the first bad version.\n"
   ]
  },
  {
   "cell_type": "markdown",
   "id": "b07cd2f8-23b4-4283-9173-19d9910744b1",
   "metadata": {},
   "source": [
    "###  use a binary search algorithm."
   ]
  },
  {
   "cell_type": "code",
   "execution_count": 6,
   "id": "3bdb8d02-2d75-47fe-b750-36613d1d0685",
   "metadata": {},
   "outputs": [
    {
     "name": "stdout",
     "output_type": "stream",
     "text": [
      "4\n"
     ]
    }
   ],
   "source": [
    "def firstBadVersion(n):\n",
    "    left, right = 1, n\n",
    "\n",
    "    while left < right:\n",
    "        mid = left + (right - left) // 2\n",
    "\n",
    "        if isBadVersion(mid):\n",
    "            right = mid\n",
    "        else:\n",
    "            left = mid + 1\n",
    "\n",
    "    return left\n",
    "\n",
    "# For illustration purposes, I'm assuming the isBadVersion() API is defined as follows:\n",
    "def isBadVersion(version):\n",
    "    return version >= 4\n",
    "\n",
    "# Test the function\n",
    "n = 5\n",
    "output = firstBadVersion(n)\n",
    "print(output)  # Output: 4\n"
   ]
  },
  {
   "cell_type": "markdown",
   "id": "bc440046-ae8b-4af7-bc9b-b499a6b6534e",
   "metadata": {},
   "source": [
    "### Given an array of integers, find the inversion of an array. Formally, two elements a[i] and a[j] form an inversion if a[i] > a[j] and i < j.\n",
    "\n",
    "N=5, arr[] = {2, 4, 1, 3, 5}\n",
    "\n",
    "Output: 3\n",
    "\n",
    "Explanation: (2,1) (4,1) and (4,3) forms an inversion in an array\n"
   ]
  },
  {
   "cell_type": "markdown",
   "id": "3f0ce24e-c6de-4569-8cec-239df043875b",
   "metadata": {},
   "source": [
    "### use a modified merge sort algorithm"
   ]
  },
  {
   "cell_type": "code",
   "execution_count": 7,
   "id": "bd73b9c5-0992-40bb-96d3-d66bc5a7c4de",
   "metadata": {},
   "outputs": [
    {
     "name": "stdout",
     "output_type": "stream",
     "text": [
      "3\n"
     ]
    }
   ],
   "source": [
    "def countInversions(arr):\n",
    "    def merge_sort(arr):\n",
    "        if len(arr) <= 1:\n",
    "            return arr, 0\n",
    "\n",
    "        mid = len(arr) // 2\n",
    "        left, inv_left = merge_sort(arr[:mid])\n",
    "        right, inv_right = merge_sort(arr[mid:])\n",
    "        merged, inversions = merge(left, right)\n",
    "\n",
    "        return merged, inv_left + inv_right + inversions\n",
    "\n",
    "    def merge(left, right):\n",
    "        merged = []\n",
    "        inversions = 0\n",
    "        i, j = 0, 0\n",
    "\n",
    "        while i < len(left) and j < len(right):\n",
    "            if left[i] <= right[j]:\n",
    "                merged.append(left[i])\n",
    "                i += 1\n",
    "            else:\n",
    "                merged.append(right[j])\n",
    "                j += 1\n",
    "                # Since the left subarray is sorted,\n",
    "                # all elements starting from i form inversions with the current right element.\n",
    "                inversions += len(left) - i\n",
    "\n",
    "        merged.extend(left[i:])\n",
    "        merged.extend(right[j:])\n",
    "\n",
    "        return merged, inversions\n",
    "\n",
    "    _, inversions = merge_sort(arr)\n",
    "    return inversions\n",
    "\n",
    "# Test the function\n",
    "arr = [2, 4, 1, 3, 5]\n",
    "output = countInversions(arr)\n",
    "print(output)  # Output: 3\n"
   ]
  },
  {
   "cell_type": "markdown",
   "id": "7096bbc6-6abf-4e5e-8144-3dd7a7e1ec1e",
   "metadata": {},
   "source": [
    "### 8. Given three arrays sorted in non-decreasing order, print all common elements in these arrays.\n",
    "\n",
    "ar1[] = {1, 5, 10, 20, 40, 80} \n",
    "\n",
    "ar2[] = {6, 7, 20, 80, 100} \n",
    "\n",
    "ar3[] = {3, 4, 15, 20, 30, 70, 80, 120} \n",
    "\n",
    "Output: 20, 80"
   ]
  },
  {
   "cell_type": "markdown",
   "id": "70cda2da-b0b6-47cb-8766-f89cfdf40a17",
   "metadata": {},
   "source": [
    "### use a three-pointer "
   ]
  },
  {
   "cell_type": "code",
   "execution_count": 8,
   "id": "e42f549f-357e-4145-b399-3f2511a784a1",
   "metadata": {},
   "outputs": [
    {
     "name": "stdout",
     "output_type": "stream",
     "text": [
      "[20, 80]\n"
     ]
    }
   ],
   "source": [
    "def findCommonElements(ar1, ar2, ar3):\n",
    "    i, j, k = 0, 0, 0\n",
    "    common_elements = []\n",
    "\n",
    "    while i < len(ar1) and j < len(ar2) and k < len(ar3):\n",
    "        if ar1[i] == ar2[j] == ar3[k]:\n",
    "            common_elements.append(ar1[i])\n",
    "            i += 1\n",
    "            j += 1\n",
    "            k += 1\n",
    "        elif ar1[i] <= ar2[j] and ar1[i] <= ar3[k]:\n",
    "            i += 1\n",
    "        elif ar2[j] <= ar1[i] and ar2[j] <= ar3[k]:\n",
    "            j += 1\n",
    "        else:\n",
    "            k += 1\n",
    "\n",
    "    return common_elements\n",
    "\n",
    "# Test the function\n",
    "ar1 = [1, 5, 10, 20, 40, 80]\n",
    "ar2 = [6, 7, 20, 80, 100]\n",
    "ar3 = [3, 4, 15, 20, 30, 70, 80, 120]\n",
    "output = findCommonElements(ar1, ar2, ar3)\n",
    "print(output)  # Output: [20, 80]\n"
   ]
  },
  {
   "cell_type": "code",
   "execution_count": null,
   "id": "b33c546f-759a-4fca-a5f3-376475a6384d",
   "metadata": {},
   "outputs": [],
   "source": []
  }
 ],
 "metadata": {
  "kernelspec": {
   "display_name": "Python 3 (ipykernel)",
   "language": "python",
   "name": "python3"
  },
  "language_info": {
   "codemirror_mode": {
    "name": "ipython",
    "version": 3
   },
   "file_extension": ".py",
   "mimetype": "text/x-python",
   "name": "python",
   "nbconvert_exporter": "python",
   "pygments_lexer": "ipython3",
   "version": "3.10.8"
  }
 },
 "nbformat": 4,
 "nbformat_minor": 5
}
