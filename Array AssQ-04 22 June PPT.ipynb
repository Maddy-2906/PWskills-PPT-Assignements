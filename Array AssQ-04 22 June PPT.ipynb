{
 "cells": [
  {
   "cell_type": "markdown",
   "id": "0e5ff231-336d-4122-bd9f-1a79329c17dc",
   "metadata": {},
   "source": [
    "### 💡 **Question 1**\n",
    "Given three integer arrays arr1, arr2 and arr3 **sorted** in **strictly increasing** order, return a sorted array of **only** the integers that appeared in **all** three arrays.\n",
    "\n",
    "**Example 1:**\n",
    "\n",
    "Input: arr1 = [1,2,3,4,5], arr2 = [1,2,5,7,9], arr3 = [1,3,4,5,8]\n",
    "\n",
    "Output: [1,5]\n",
    "\n",
    "**Explanation:** Only 1 and 5 appeared in the three arrays.\n",
    "\n"
   ]
  },
  {
   "cell_type": "code",
   "execution_count": 1,
   "id": "7729ec46-81f9-4af8-9c73-4d8ef088aa4e",
   "metadata": {},
   "outputs": [
    {
     "name": "stdout",
     "output_type": "stream",
     "text": [
      "[1, 5]\n"
     ]
    }
   ],
   "source": [
    "def findCommonElements(arr1, arr2, arr3):\n",
    "    result = []\n",
    "    i, j, k = 0, 0, 0\n",
    "\n",
    "    while i < len(arr1) and j < len(arr2) and k < len(arr3):\n",
    "        if arr1[i] == arr2[j] == arr3[k]:\n",
    "            result.append(arr1[i])\n",
    "            i += 1\n",
    "            j += 1\n",
    "            k += 1\n",
    "        elif arr1[i] < arr2[j] or arr1[i] < arr3[k]:\n",
    "            i += 1\n",
    "        elif arr2[j] < arr1[i] or arr2[j] < arr3[k]:\n",
    "            j += 1\n",
    "        else:\n",
    "            k += 1\n",
    "\n",
    "    return result\n",
    "arr1 = [1, 2, 3, 4, 5]\n",
    "arr2 = [1, 2, 5, 7, 9]\n",
    "arr3 = [1, 3, 4, 5, 8]\n",
    "result = findCommonElements(arr1, arr2, arr3)\n",
    "print(result) \n"
   ]
  },
  {
   "cell_type": "markdown",
   "id": "73c45f7e-31f4-402a-abe3-5d33965f229e",
   "metadata": {},
   "source": [
    "### 💡 **Question 2**\n",
    "\n",
    "Given two **0-indexed** integer arrays nums1 and nums2, return *a list* answer *of size* 2 *where:*\n",
    "\n",
    "- answer[0] *is a list of all **distinct** integers in* nums1 *which are **not** present in* nums2*.*\n",
    "- answer[1] *is a list of all **distinct** integers in* nums2 *which are **not** present in* nums1.\n",
    "\n",
    "**Note** that the integers in the lists may be returned in **any** order.\n",
    "\n",
    "**Example 1:**\n",
    "\n",
    "**Input:** nums1 = [1,2,3], nums2 = [2,4,6]\n",
    "\n",
    "**Output:** [[1,3],[4,6]]\n",
    "\n",
    "**Explanation:**\n",
    "\n",
    "For nums1, nums1[1] = 2 is present at index 0 of nums2, whereas nums1[0] = 1 and nums1[2] = 3 are not present in nums2. Therefore, answer[0] = [1,3].\n",
    "\n",
    "For nums2, nums2[0] = 2 is present at index 1 of nums1, whereas nums2[1] = 4 and nums2[2] = 6 are not present in nums2. Therefore, answer[1] = [4,6].\n",
    "\n"
   ]
  },
  {
   "cell_type": "code",
   "execution_count": 2,
   "id": "8ca68901-dfca-4067-8c66-130ccc095066",
   "metadata": {},
   "outputs": [
    {
     "name": "stdout",
     "output_type": "stream",
     "text": [
      "[[1, 3], [4, 6]]\n"
     ]
    }
   ],
   "source": [
    "def findDistinctIntegers(nums1, nums2):\n",
    "    set1 = set(nums1)\n",
    "    set2 = set(nums2)\n",
    "\n",
    "    diff1 = list(set1 - set2)\n",
    "    diff2 = list(set2 - set1)\n",
    "\n",
    "    return [diff1, diff2]\n",
    "nums1 = [1, 2, 3]\n",
    "nums2 = [2, 4, 6]\n",
    "result = findDistinctIntegers(nums1, nums2)\n",
    "print(result)  \n"
   ]
  },
  {
   "cell_type": "markdown",
   "id": "eef1ff8e-8b62-401e-927e-8e3e336f3705",
   "metadata": {},
   "source": [
    "### 💡 **Question 3**\n",
    "Given a 2D integer array matrix, return *the **transpose** of* matrix.\n",
    "\n",
    "The **transpose** of a matrix is the matrix flipped over its main diagonal, switching the matrix's row and column indices.\n",
    "\n",
    "**Example 1:**\n",
    "\n",
    "- Input: matrix = [[1,2,3],[4,5,6],[7,8,9]]\n",
    "\n",
    "- Output: [[1,4,7],[2,5,8],[3,6,9]]\n",
    "\n"
   ]
  },
  {
   "cell_type": "code",
   "execution_count": 3,
   "id": "25127774-6aa4-44fc-9ec6-613f5b1e3d4f",
   "metadata": {},
   "outputs": [
    {
     "name": "stdout",
     "output_type": "stream",
     "text": [
      "[[1, 4, 7], [2, 5, 8], [3, 6, 9]]\n"
     ]
    }
   ],
   "source": [
    "def transpose(matrix):\n",
    "    n = len(matrix)  # number of rows\n",
    "    m = len(matrix[0])  # number of columns\n",
    "\n",
    "    transposed = [[0] * n for _ in range(m)]\n",
    "\n",
    "    for i in range(n):\n",
    "        for j in range(m):\n",
    "            transposed[j][i] = matrix[i][j]\n",
    "\n",
    "    return transposed\n",
    "matrix = [[1, 2, 3], [4, 5, 6], [7, 8, 9]]\n",
    "result = transpose(matrix)\n",
    "print(result)  "
   ]
  },
  {
   "cell_type": "markdown",
   "id": "1434a4c9-9ab2-43cb-b00f-df3d1c38ae88",
   "metadata": {},
   "source": [
    "### 💡 **Question 4**\n",
    "Given an integer array nums of 2n integers, group these integers into n pairs (a1, b1), (a2, b2), ..., (an, bn) such that the sum of min(ai, bi) for all i is **maximized**. Return *the maximized sum*.\n",
    "\n",
    "**Example 1:**\n",
    "\n",
    "Input: nums = [1,4,3,2]\n",
    "\n",
    "Output: 4\n",
    "\n",
    "**Explanation:** All possible pairings (ignoring the ordering of elements) are:\n",
    "\n",
    "1. (1, 4), (2, 3) -> min(1, 4) + min(2, 3) = 1 + 2 = 3\n",
    "\n",
    "2. (1, 3), (2, 4) -> min(1, 3) + min(2, 4) = 1 + 2 = 3\n",
    "\n",
    "3. (1, 2), (3, 4) -> min(1, 2) + min(3, 4) = 1 + 3 = 4\n",
    "\n",
    "So the maximum possible sum is 4.\n",
    "\n"
   ]
  },
  {
   "cell_type": "code",
   "execution_count": 4,
   "id": "7cf37a00-c7de-4a76-89e2-4be837bf704d",
   "metadata": {},
   "outputs": [
    {
     "name": "stdout",
     "output_type": "stream",
     "text": [
      "4\n"
     ]
    }
   ],
   "source": [
    "def arrayPairSum(nums):\n",
    "    nums.sort()\n",
    "    max_sum = 0\n",
    "\n",
    "    for i in range(0, len(nums), 2):\n",
    "        max_sum += nums[i]\n",
    "\n",
    "    return max_sum\n",
    "nums = [1, 4, 3, 2]\n",
    "result = arrayPairSum(nums)\n",
    "print(result)  "
   ]
  },
  {
   "cell_type": "markdown",
   "id": "3aabe978-b5c7-4ddb-9f12-3c87fedfd4bf",
   "metadata": {},
   "source": [
    "### 💡 **Question 5**\n",
    "You have n coins and you want to build a staircase with these coins. The staircase consists of k rows where the ith row has exactly i coins. The last row of the staircase **may be** incomplete.\n",
    "\n",
    "Given the integer n, return *the number of **complete rows** of the staircase you will build*.\n",
    "\n",
    "**Input:** n = 5\n",
    "\n",
    "**Output:** 2\n",
    "\n",
    "**Explanation:** Because the 3rd row is incomplete, we return 2."
   ]
  },
  {
   "cell_type": "code",
   "execution_count": 5,
   "id": "42515975-552b-49df-8cb2-41ccc95f0915",
   "metadata": {},
   "outputs": [
    {
     "name": "stdout",
     "output_type": "stream",
     "text": [
      "2\n"
     ]
    }
   ],
   "source": [
    "def arrangeCoins(n):\n",
    "    rows = 0\n",
    "    i = 1\n",
    "\n",
    "    while n >= i:\n",
    "        n -= i\n",
    "        rows += 1\n",
    "        i += 1\n",
    "\n",
    "    return rows\n",
    "n = 5\n",
    "result = arrangeCoins(n)\n",
    "print(result)  "
   ]
  },
  {
   "cell_type": "markdown",
   "id": "872dff6b-03d8-4067-bdc4-0070e94adf85",
   "metadata": {},
   "source": [
    "### 💡 **Question 6**\n",
    "Given an integer array nums sorted in **non-decreasing** order, return *an array of **the squares of each number** sorted in non-decreasing order*.\n",
    "\n",
    "**Example 1:**\n",
    "\n",
    "Input: nums = [-4,-1,0,3,10]\n",
    "\n",
    "Output: [0,1,9,16,100]\n",
    "\n",
    "**Explanation:** After squaring, the array becomes [16,1,0,9,100].\n",
    "After sorting, it becomes [0,1,9,16,100]\n",
    "\n"
   ]
  },
  {
   "cell_type": "code",
   "execution_count": 6,
   "id": "954086d6-e510-4686-bb6d-3b298dff77b6",
   "metadata": {},
   "outputs": [
    {
     "name": "stdout",
     "output_type": "stream",
     "text": [
      "[0, 1, 9, 16, 100]\n"
     ]
    }
   ],
   "source": [
    "def sortedSquares(nums):\n",
    "    result = []\n",
    "    for num in nums:\n",
    "        result.append(num * num)\n",
    "    result.sort()\n",
    "    return result\n",
    "nums = [-4, -1, 0, 3, 10]\n",
    "result = sortedSquares(nums)\n",
    "print(result) "
   ]
  },
  {
   "cell_type": "markdown",
   "id": "756067b4-70c3-4070-8289-7b8dd2925d58",
   "metadata": {},
   "source": [
    "### 💡 **Question 7**\n",
    "You are given an m x n matrix M initialized with all 0's and an array of operations ops, where ops[i] = [ai, bi] means M[x][y] should be incremented by one for all 0 <= x < ai and 0 <= y < bi.\n",
    "\n",
    "Count and return *the number of maximum integers in the matrix after performing all the operations*\n",
    "\n",
    "**Example 1:**\n",
    "\n",
    "\n",
    "\n",
    "**Input:** m = 3, n = 3, ops = [[2,2],[3,3]]\n",
    "\n",
    "**Output:** 4\n",
    "\n",
    "**Explanation:** The maximum integer in M is 2, and there are four of it in M. So return 4.\n",
    "\n"
   ]
  },
  {
   "cell_type": "code",
   "execution_count": 7,
   "id": "b179e4b0-8ca0-48d2-8777-a040c67d49be",
   "metadata": {},
   "outputs": [
    {
     "name": "stdout",
     "output_type": "stream",
     "text": [
      "4\n"
     ]
    }
   ],
   "source": [
    "def maxCount(m, n, ops):\n",
    "    max_rows = m\n",
    "    max_cols = n\n",
    "\n",
    "    for op in ops:\n",
    "        max_rows = min(max_rows, op[0])\n",
    "        max_cols = min(max_cols, op[1])\n",
    "\n",
    "    return max_rows * max_cols\n",
    "m = 3\n",
    "n = 3\n",
    "ops = [[2, 2], [3, 3]]\n",
    "result = maxCount(m, n, ops)\n",
    "print(result)  \n"
   ]
  },
  {
   "cell_type": "markdown",
   "id": "b6ec8301-03af-46b3-a5d7-55b898d0db49",
   "metadata": {},
   "source": [
    "### 💡 **Question 8**\n",
    "\n",
    "Given the array nums consisting of 2n elements in the form [x1,x2,...,xn,y1,y2,...,yn].\n",
    "\n",
    "*Return the array in the form* [x1,y1,x2,y2,...,xn,yn].\n",
    "\n",
    "**Example 1:**\n",
    "\n",
    "**Input:** nums = [2,5,1,3,4,7], n = 3\n",
    "\n",
    "**Output:** [2,3,5,4,1,7]\n",
    "\n",
    "**Explanation:** Since x1=2, x2=5, x3=1, y1=3, y2=4, y3=7 then the answer is [2,3,5,4,1,7].\n",
    "\n"
   ]
  },
  {
   "cell_type": "code",
   "execution_count": 8,
   "id": "cd00aaa3-7f64-4e82-8b0c-000c3aae68ac",
   "metadata": {},
   "outputs": [
    {
     "name": "stdout",
     "output_type": "stream",
     "text": [
      "[2, 3, 5, 4, 1, 7]\n"
     ]
    }
   ],
   "source": [
    "def shuffle(nums, n):\n",
    "    result = []\n",
    "    for i in range(n):\n",
    "        result.append(nums[i])\n",
    "        result.append(nums[i+n])\n",
    "    return result\n",
    "nums = [2, 5, 1, 3, 4, 7]\n",
    "n = 3\n",
    "result = shuffle(nums, n)\n",
    "print(result)  \n"
   ]
  },
  {
   "cell_type": "code",
   "execution_count": null,
   "id": "bf70771a-2fd8-458a-8051-5a399e556ede",
   "metadata": {},
   "outputs": [],
   "source": []
  }
 ],
 "metadata": {
  "kernelspec": {
   "display_name": "Python 3 (ipykernel)",
   "language": "python",
   "name": "python3"
  },
  "language_info": {
   "codemirror_mode": {
    "name": "ipython",
    "version": 3
   },
   "file_extension": ".py",
   "mimetype": "text/x-python",
   "name": "python",
   "nbconvert_exporter": "python",
   "pygments_lexer": "ipython3",
   "version": "3.10.8"
  }
 },
 "nbformat": 4,
 "nbformat_minor": 5
}
