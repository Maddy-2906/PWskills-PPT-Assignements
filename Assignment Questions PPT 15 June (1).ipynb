{
 "cells": [
  {
   "cell_type": "markdown",
   "id": "7164d168-0227-4f96-8a91-5a438a639875",
   "metadata": {},
   "source": [
    "\n",
    "#### 💡 **Q1.** Given an array of integers nums and an integer target, return indices of the two numbers such that they add up to target.\n",
    "\n",
    "You may assume that each input would have exactly one solution, and you may not use the same element twice.\n",
    "\n",
    "You can return the answer in any order.\n",
    "\n",
    "**Example:**\n",
    "- Input: nums = [2,7,11,15], target = 9\n",
    "- Output0 [0,1]\n",
    "\n",
    "**Explanation:** Because nums[0] + nums[1] == 9, we return [0, 1][\n",
    "\n"
   ]
  },
  {
   "cell_type": "markdown",
   "id": "ca104f60-6090-4eef-a0ee-3b76c1772aaf",
   "metadata": {},
   "source": [
    "### Ans:- To find the indices of two numbers in an array that add up to a target value, we can use a two-pointer approach.\n",
    "#### Two pointers is really an easy and effective technique that is typically used for searching pairs in a sorted array.Given a sorted array A (sorted in ascending order), having N integers, find if there exists any pair of elements (A[i], A[j]) such that their sum is equal to X.\n",
    "\n",
    "1. Create a dictionary to store the  required_number in the array along with its index.\n",
    "\n",
    "2. Iterate through the array elements using a for loop.\n",
    "\n",
    "3. For each element nums[i], calculate the  required_number by subtracting it from the target ( required_number = target - nums[i]).\n",
    "\n",
    "4. Check if the  required_number exists in the dictionary. If it does, return the indices [dictionary[ required_number], i].\n",
    "\n",
    "5. If the  required_number doesn't exist in the dictionary, add the current number and its index to the dictionary.\n",
    "\n",
    "6. If the loop finishes without finding a solution, it means there are no two numbers that add up to the target. You can return an empty list or handle it according to your requirements."
   ]
  },
  {
   "cell_type": "markdown",
   "id": "f8a5297e-b456-41d8-97bf-855922f7edce",
   "metadata": {},
   "source": [
    "def twoSum(nums, target): # define class nums & target\n",
    "    num_dict = {}\n",
    "    for i, num in enumerate(nums):\n",
    "        required_number = target - num\n",
    "        if  required_number in num_dict:\n",
    "            return [num_dict[required_number], i]\n",
    "        num_dict[num] = i\n",
    "    return []\n",
    "\n",
    "# Example usage\n",
    "nums = [2, 7, 11, 15]\n",
    "target = 9\n",
    "result = twoSum(nums, target)\n",
    "print(result)\n"
   ]
  },
  {
   "cell_type": "markdown",
   "id": "7d1e0d31-1bef-4f02-bb00-61846d943742",
   "metadata": {},
   "source": [
    "### In the given example, the two numbers that add up to 9 are 2 and 7, which are located at indices 0 and 1, respectively."
   ]
  },
  {
   "cell_type": "markdown",
   "id": "31837a1e-a379-46d9-bcd7-a205a28a5be7",
   "metadata": {},
   "source": [
    "###  **Q2.** Given an integer array nums and an integer val, remove all occurrences of val in nums in-place. The order of the elements may be changed. Then return the number of elements in nums which are not equal to val.\n",
    "\n",
    "Consider the number of elements in nums which are not equal to val be k, to get accepted, you need to do the following things:\n",
    "\n",
    "- Change the array nums such that the first k elements of nums contain the elements which are not equal to val. The remaining elements of nums are not important as well as the size of nums.\n",
    "- Return k.\n",
    "\n",
    "##### **Example :**\n",
    "- Input: nums = [3,2,2,3], val = 3\n",
    "- Output: 2, nums = [2,2,_*,_*]\n",
    "\n",
    "**Explanation:** Your function should return k = 2, with the first two elements of nums being 2. It does not matter what you leave beyond the returned k (hence they are underscores)"
   ]
  },
  {
   "cell_type": "markdown",
   "id": "9bde7ce0-aad6-4082-944f-3c8861917e41",
   "metadata": {},
   "source": [
    "### Ans:-To remove all occurrences of a given value from an array in-place and return the number of remaining elements, you can use a two-pointer approach. \n",
    "\n",
    "1.  importing the List type from the typing module. This is used to provide type hints for the nums parameter of the removeElement method.\n",
    "\n",
    "2. define a class called Solution that contains the removeElement method. The purpose of this method is to remove all occurrences of a given value (val) from a list of integers (nums).\n",
    "\n",
    "3. Inside the removeElement method, we initialize a variable k to keep track of the position where the next non-val element should be placed.\n",
    "\n",
    "4. We then iterate over each element in the nums list using a for loop and an index variable i.\n",
    "\n",
    "5. For each element, we check if it is not equal to val using the condition nums[i] != val\n",
    "\n",
    "6. If the element is not equal to val, it means it should be retained in the modified list. We assign this element to the k-th position in the nums list and increment k by 1.\n",
    "\n",
    "7. This process continues until we have checked all elements in the nums list.\n",
    "\n",
    "8. Finally, we return the value of k, which represents the count of non-val elements in the modified list.\n",
    "\n",
    "9. in the example section of the code, we create an instance of the Solution class called solution.\n",
    "\n",
    "10. We initialize the nums list and specify the value val that we want to remove.\n",
    "\n",
    "11. We call the removeElement method on the solution instance, passing in the nums list and val as arguments. The returned value, which is the count of remaining elements after removal, is stored in the count variable.\n",
    "\n",
    "12. Finally, we print the count and the updated nums list by slicing it up to the count index."
   ]
  },
  {
   "cell_type": "code",
   "execution_count": 3,
   "id": "d3149124-1a43-4fda-99b9-320943310a6b",
   "metadata": {},
   "outputs": [
    {
     "name": "stdout",
     "output_type": "stream",
     "text": [
      "Count: 2\n",
      "Updated nums: [2, 2]\n"
     ]
    }
   ],
   "source": [
    "from typing import List\n",
    "\n",
    "class Solution:\n",
    "    def removeElement(self, nums: List[int], val: int) -> int:\n",
    "        k = 0\n",
    "        for i in range(len(nums)):\n",
    "            if nums[i] != val:\n",
    "                nums[k] = nums[i]\n",
    "                k += 1\n",
    "        return k\n",
    "\n",
    "# example\n",
    "nums = [3, 2, 2, 3]\n",
    "val = 3\n",
    "solution = Solution()\n",
    "count = solution.removeElement(nums, val)\n",
    "print(\"Count:\", count)\n",
    "print(\"Updated nums:\", nums[:count])"
   ]
  },
  {
   "cell_type": "markdown",
   "id": "3741366b-5b3e-49d4-905e-d889b4caeae6",
   "metadata": {},
   "source": [
    "### In the given example, the array nums initially contains [3, 2, 2, 3]. After removing all occurrences of val = 3, the first two elements of nums become [2, 2]. The function returns the count of remaining elements, which is 2."
   ]
  },
  {
   "cell_type": "markdown",
   "id": "181058ce-ecd8-40e0-bbdd-67b472878564",
   "metadata": {},
   "source": [
    "###  **Q3.** Given a sorted array of distinct integers and a target value, return the index if the target is found. If not, return the index where it would be if it were inserted in order.\n",
    "\n",
    "You must write an algorithm with O(log n) runtime complexity.\n",
    "\n",
    "#### **Example 1:**\n",
    "- Input: nums = [1,3,5,6],\n",
    "- target = 5\n",
    "\n",
    "Output: 2\n"
   ]
  },
  {
   "cell_type": "markdown",
   "id": "0fc38493-21df-4001-9866-ae283fef7f06",
   "metadata": {},
   "source": [
    "### Ans:-To find the index of a target value in a sorted array or determine the index where it should be inserted, you can use a binary search algorithm. Since the array is already sorted, a binary search allows you to find the target efficiently with a time complexity of O(log n). \n",
    "\n",
    "1. Initialize two pointers, left and right, to define the search range. Set left = 0 and right = len(nums) - 1.\n",
    "\n",
    "While left <= right, perform the following steps:\n",
    "\n",
    "2. Calculate the middle index as mid = (left + right) // 2.\n",
    "\n",
    "If the value at nums[mid] is equal to the target, return mid.\n",
    "\n",
    "If the value at nums[mid] is greater than the target, set right = mid - 1 to search in the left half of the array.\n",
    "\n",
    "If the value at nums[mid] is less than the target, set left = mid + 1 to search in the right half of the array.\n",
    "\n",
    "3. If the target is not found during the search, it means it should be inserted at the index left. Return left"
   ]
  },
  {
   "cell_type": "code",
   "execution_count": 4,
   "id": "a5332693-4ecf-4a77-94ad-d48ef23f1170",
   "metadata": {},
   "outputs": [
    {
     "name": "stdout",
     "output_type": "stream",
     "text": [
      "Index: 2\n"
     ]
    }
   ],
   "source": [
    "from typing import List\n",
    "\n",
    "class Solution:\n",
    "    def searchInsert(self, nums: List[int], target: int) -> int:\n",
    "        left = 0\n",
    "        right = len(nums) - 1\n",
    "        \n",
    "        while left <= right:\n",
    "            mid = (left + right) // 2\n",
    "            \n",
    "            if nums[mid] == target:\n",
    "                return mid\n",
    "            elif nums[mid] < target:\n",
    "                left = mid + 1\n",
    "            else:\n",
    "                right = mid - 1\n",
    "        \n",
    "        return left\n",
    "\n",
    "# Example usage\n",
    "nums = [1, 3, 5, 6]\n",
    "target = 5\n",
    "solution = Solution()\n",
    "index = solution.searchInsert(nums, target)\n",
    "print(\"Index:\", index)"
   ]
  },
  {
   "cell_type": "markdown",
   "id": "bcd3759d-9ed4-49c4-82e9-41c5f6ffd3a0",
   "metadata": {},
   "source": [
    "### In the given example, the target value 5 is found at index 2 in the sorted array nums = [1, 3, 5, 6]. Therefore, the function returns 2"
   ]
  },
  {
   "cell_type": "markdown",
   "id": "962e66be-9f2a-4a38-bd1d-3f657addbbb0",
   "metadata": {
    "jp-MarkdownHeadingCollapsed": true,
    "tags": []
   },
   "source": [
    "### **Q4.** You are given a large integer represented as an integer array digits, where each digits[i] is the ith digit of the integer. The digits are ordered from most significant to least significant in left-to-right order. The large integer does not contain any leading 0's.\n",
    "\n",
    "Increment the large integer by one and return the resulting array of digits.\n",
    "\n",
    "**Example 1:**\n",
    "- Input: digits = [1,2,3]\n",
    "- Output: [1,2,4]\n",
    "\n",
    "**Explanation:** The array represents the integer 123.\n",
    "\n",
    "Incrementing by one gives 123 + 1 = 124.\n",
    "Thus, the result should be [1,2,4].\n",
    "\n"
   ]
  },
  {
   "cell_type": "markdown",
   "id": "8f38fb55-f06e-4b7a-908d-81cc6e6ff01e",
   "metadata": {},
   "source": [
    "### Ans:-To increment a large integer represented as an array of digits, you can start from the least significant digit and perform the carry operation if necessary.\n",
    "\n",
    "1. Initialize a carry variable to 1 to indicate the increment operation.\n",
    "\n",
    "2. Iterate through the digits from right to left using a reverse loop.\n",
    "\n",
    "3. For each digit, add the carry to it and update the digit value.\n",
    "\n",
    "If the updated digit is less than 10, it means no carry is needed. In this case, update the digit and set the carry to 0.\n",
    "\n",
    "If the updated digit is 10, it means a carry is needed. Set the digit to 0 and continue the loop with the carry value as 1.\n",
    "\n",
    "4. After the loop, check if the carry is still 1. If it is, it means a new digit needs to be inserted at the beginning of the array with a value of 1.\n",
    "\n",
    "5. Return the updated array of digits."
   ]
  },
  {
   "cell_type": "code",
   "execution_count": 5,
   "id": "eea6420b-08f7-444a-af64-0be221ea95f5",
   "metadata": {},
   "outputs": [
    {
     "name": "stdout",
     "output_type": "stream",
     "text": [
      "Result: [1, 2, 4]\n"
     ]
    }
   ],
   "source": [
    "\n",
    "from typing import List\n",
    "\n",
    "class Solution:\n",
    "    def plusOne(self, digits: List[int]) -> List[int]:\n",
    "        carry = 1\n",
    "        for i in range(len(digits) - 1, -1, -1):\n",
    "            digits[i] += carry\n",
    "            if digits[i] < 10:\n",
    "                carry = 0\n",
    "                break\n",
    "            digits[i] = 0\n",
    "        if carry == 1:\n",
    "            digits.insert(0, 1)\n",
    "        return digits\n",
    "\n",
    "# Example usage\n",
    "digits = [1, 2, 3]\n",
    "solution = Solution()\n",
    "result = solution.plusOne(digits)\n",
    "print(\"Result:\", result)\n"
   ]
  },
  {
   "cell_type": "markdown",
   "id": "e20cf0af-bc5f-43f6-8715-24a1fd070158",
   "metadata": {},
   "source": [
    "### In the given example, the input array digits = [1, 2, 3] represents the integer 123. Incrementing it by one gives 123 + 1 = 124. The resulting array is [1, 2, 4]."
   ]
  },
  {
   "cell_type": "markdown",
   "id": "e5c74335-bce2-4bbf-9208-4acaa9cc4442",
   "metadata": {},
   "source": [
    "###  **Q5.** You are given two integer arrays nums1 and nums2, sorted in non-decreasing order, and two integers m and n, representing the number of elements in nums1 and nums2 respectively.\n",
    "\n",
    "Merge nums1 and nums2 into a single array sorted in non-decreasing order.\n",
    "\n",
    "#### The final sorted array should not be returned by the function, but instead be stored inside the array nums1. To accommodate this, nums1 has a length of m + n, where the first m elements denote the elements that should be merged, and the last n elements are set to 0 and should be ignored. nums2 has a length of n.\n",
    "\n",
    "**Example 1:**\n",
    "- Input: nums1 = [1,2,3,0,0,0], m = 3, nums2 = [2,5,6], n = 3\n",
    "- Output: [1,2,2,3,5,6]\n",
    "\n",
    "**Explanation:** The arrays we are merging are [1,2,3] and [2,5,6].\n",
    "The result of the merge is [1,2,2,3,5,6] with the underlined elements coming from nums1.\n"
   ]
  },
  {
   "cell_type": "markdown",
   "id": "19e72ccf-116b-407a-9780-cc64b62c06e4",
   "metadata": {},
   "source": [
    "### Ans:- to merge two sorted arrays, nums1 and nums2, into a single sorted array without using extra space, you can utilize the fact that both arrays are already sorted. \n",
    "\n",
    "1. Initialize three pointers: p1 to track the current element in nums1, starting from index m - 1, p2 to track the current element in nums2, starting from index n - 1, and p to track the position where the next element should be inserted in nums1, starting from index m + n - 1.\n",
    "\n",
    "2. Compare the elements at nums1[p1] and nums2[p2]. If nums1[p1] is greater than nums2[p2], set nums1[p] to nums1[p1], decrement p1, and decrement p. Otherwise, set nums1[p] to nums2[p2], decrement p2, and decrement p.\n",
    "\n",
    "Repeat step 2 until p1 or p2 becomes less than 0.\n",
    "\n",
    "3. If there are any remaining elements in nums2, copy them to the beginning of nums1."
   ]
  },
  {
   "cell_type": "code",
   "execution_count": 14,
   "id": "54e3f319-5468-4802-963b-b7405a10b0b8",
   "metadata": {},
   "outputs": [
    {
     "name": "stdout",
     "output_type": "stream",
     "text": [
      "Merged Array: [1, 2, 2, 3, 5, 6]\n"
     ]
    }
   ],
   "source": [
    "def merge(nums1, m, nums2, n):\n",
    "    p1 = m - 1   # Pointer P1\n",
    "    p2 = n - 1    #Pointer P2\n",
    "    p = m + n - 1  #pointer_Index P\n",
    "    \n",
    "    while p1 >= 0 and p2 >= 0:  #applying \n",
    "        if nums1[p1] > nums2[p2]:\n",
    "            nums1[p] = nums1[p1]\n",
    "            p1 -= 1\n",
    "        else:\n",
    "            nums1[p] = nums2[p2]\n",
    "            p2 -= 1\n",
    "        p -= 1\n",
    "    \n",
    "    # Copy remaining elements from nums2 to nums1\n",
    "    nums1[:p2 + 1] = nums2[:p2 + 1]\n",
    "\n",
    "# Example usage\n",
    "nums1 = [1, 2, 3, 0, 0, 0]\n",
    "m = 3\n",
    "nums2 = [2, 5, 6]\n",
    "n = 3\n",
    "\n",
    "merge(nums1, m, nums2, n)\n",
    "print(\"Merged Array:\", nums1)\n"
   ]
  },
  {
   "cell_type": "markdown",
   "id": "d1e412ea-6e8e-485d-945f-a22675d9eb94",
   "metadata": {},
   "source": [
    "### In the given example, nums1 = [1, 2, 3, 0, 0, 0] represents the array with three elements [1, 2, 3], and nums2 = [2, 5, 6] represents the array [2, 5, 6]. After merging both arrays, the resulting merged array is [1, 2, 2, 3, 5, 6]."
   ]
  },
  {
   "cell_type": "markdown",
   "id": "763d1d62-ecbd-4a49-b508-11de3e8c0a79",
   "metadata": {},
   "source": [
    "###  **Q6.** Given an integer array nums, return true if any value appears at least twice in the array, and return false if every element is distinct.\n",
    "\n",
    "**Example 1:**\n",
    "- Input: nums = [1,2,3,1]\n",
    "\n",
    "Output: true\n",
    "\n",
    "</aside>"
   ]
  },
  {
   "cell_type": "markdown",
   "id": "5e09ad84-d8f4-4e25-be8c-071259cb93b6",
   "metadata": {},
   "source": [
    "### Ans:- To determine if any value appears at least twice in an integer array, you can utilize a set data structure. \n",
    "\n",
    "1. Initialize an Empty_set \n",
    "\n",
    "2. Iterate through the elements of the array nums.\n",
    "\n",
    "3. For each element num, check if it is already present in the Empty_set\n",
    "\n",
    "If num is already in seen, return True as it indicates a duplicate element.\n",
    "\n",
    "If num is not in Empty_set , add it to the set.\n",
    "\n",
    "4. After the loop finishes, return False as no duplicate elements were found."
   ]
  },
  {
   "cell_type": "code",
   "execution_count": 12,
   "id": "65513ddd-da27-4599-ba3b-f5911c93d79c",
   "metadata": {},
   "outputs": [
    {
     "name": "stdout",
     "output_type": "stream",
     "text": [
      "Result: True\n"
     ]
    }
   ],
   "source": [
    "def containsDuplicate(nums):\n",
    "    Empty_set = set()\n",
    "    for num in nums:\n",
    "        if num in Empty_set:\n",
    "            return True\n",
    "        Empty_set.add(num)\n",
    "    return False\n",
    "\n",
    "# Example usage\n",
    "nums = [1, 2, 3, 1]\n",
    "result = containsDuplicate(nums)\n",
    "print(\"Result:\", result)\n"
   ]
  },
  {
   "cell_type": "markdown",
   "id": "09b890db-3820-4c26-a4ac-a4ef8e5844dc",
   "metadata": {},
   "source": [
    "### In the given example, the array nums = [1, 2, 3, 1] contains a duplicate value, which is 1. Therefore, the function returns True."
   ]
  },
  {
   "cell_type": "markdown",
   "id": "670f80e1-67ca-44b1-be08-8179894a6ab3",
   "metadata": {},
   "source": [
    "### **Q7.** Given an integer array nums, move all 0's to the end of it while maintaining the relative order of the nonzero elements.\n",
    "\n",
    "Note that you must do this in-place without making a copy of the array.\n",
    "\n",
    "**Example 1:**\n",
    "- Input: nums = [0,1,0,3,12]\n",
    "- Output: [1,3,12,0,0]\n",
    "\n"
   ]
  },
  {
   "cell_type": "markdown",
   "id": "8867392c-c94a-4085-a22c-2cba95d18e9c",
   "metadata": {},
   "source": [
    "### Ans:-To move all zeros to the end of an integer array while maintaining the relative order of the non-zero elements, you can use a two-pointer approach.\n",
    "\n",
    "1. Initialize two pointers, left and right, to track the current positions in the array.\n",
    "\n",
    "2. Iterate through the array using a while loop with the condition left < len(nums).\n",
    "\n",
    "3. For each element nums[left], check if it is zero.\n",
    "\n",
    "If nums[left] is non-zero, swap it with the element at nums[right], increment both left and right.\n",
    "\n",
    "If nums[left] is zero, only increment left.\n",
    "\n",
    "4. Continue this process until left reaches the end of the array.\n",
    "\n",
    "5. After the loop, all non-zero elements are in their correct positions. Iterate from right to the end of the array and set the remaining elements to zero."
   ]
  },
  {
   "cell_type": "code",
   "execution_count": 11,
   "id": "04c89172-202c-4105-8b3f-1ad6d5ce7753",
   "metadata": {},
   "outputs": [
    {
     "name": "stdout",
     "output_type": "stream",
     "text": [
      "Modified Array: [1, 3, 12, 0, 0]\n"
     ]
    }
   ],
   "source": [
    "def moveZeroes(nums):\n",
    "    left = 0\n",
    "    right = 0\n",
    "    \n",
    "    while left < len(nums):\n",
    "        if nums[left] != 0:\n",
    "            nums[left], nums[right] = nums[right], nums[left]\n",
    "            left += 1\n",
    "            right += 1\n",
    "        else:\n",
    "            left += 1\n",
    "    \n",
    "    while right < len(nums):\n",
    "        nums[right] = 0\n",
    "        right += 1\n",
    "\n",
    "# Example usage\n",
    "nums = [0, 1, 0, 3, 12]\n",
    "moveZeroes(nums)\n",
    "print(\"Modified Array:\", nums)\n"
   ]
  },
  {
   "cell_type": "markdown",
   "id": "c1a6e5fe-ff4b-4636-89ba-bcf8af0a33c9",
   "metadata": {},
   "source": [
    "### n the given example, the array nums = [0, 1, 0, 3, 12] contains zeros that need to be moved to the end of the array while maintaining the order of non-zero elements. After performing the operation, the modified array is [1, 3, 12, 0, 0]."
   ]
  },
  {
   "cell_type": "markdown",
   "id": "8f17337a-bd3d-4c6b-b346-8fb102ac3561",
   "metadata": {},
   "source": [
    "### **Q8.** You have a set of integers s, which originally contains all the numbers from 1 to n. Unfortunately, due to some error, one of the numbers in s got duplicated to another number in the set, which results in repetition of one number and loss of another number.\n",
    "\n",
    "You are given an integer array nums representing the data status of this set after the error.\n",
    "\n",
    "Find the number that occurs twice and the number that is missing and return them in the form of an array.\n",
    "\n",
    "**Example 1:**\n",
    "- Input: nums = [1,2,2,4]\n",
    "- Output: [2,3]\n",
    "\n"
   ]
  },
  {
   "cell_type": "markdown",
   "id": "31cdf659-3f79-4ec4-8907-d0e991bce4a5",
   "metadata": {},
   "source": [
    "### Ans:-To find the number that occurs twice and the number that is missing in an integer array, nums, you can utilize a set data structure.\n",
    "\n",
    "1. Initialize an empty set called count.\n",
    "\n",
    "2. Initialize two variables, duplicate and missing, to track the duplicate number and missing number, respectively.\n",
    "\n",
    "3. Iterate through the elements of the array nums.\n",
    "\n",
    "4. For each element num, check if it is already present in the set seen.\n",
    "\n",
    "If num is already in count, it means it is the duplicate number. Assign num to duplicate.\n",
    "\n",
    "If num is not in count, add it to the set.\n",
    "\n",
    "5. After the loop, iterate from 1 to the length of nums + 1.\n",
    "\n",
    "6. For each number i, check if it is not present in count.\n",
    "\n",
    "7. If i is not in count, it means it is the missing number. Assign i to missing.\n",
    "Return the array [duplicate, missing]."
   ]
  },
  {
   "cell_type": "code",
   "execution_count": 8,
   "id": "e6657af9-a330-485b-b84b-63377cd8e0b3",
   "metadata": {},
   "outputs": [
    {
     "name": "stdout",
     "output_type": "stream",
     "text": [
      "Result: [2, 3]\n"
     ]
    }
   ],
   "source": [
    "class Solution:\n",
    "    def findErrorNums(self, nums):\n",
    "        count = {}\n",
    "        duplicate = -1\n",
    "        missing = -1\n",
    "\n",
    "        # count the occurrences of each number\n",
    "        for num in nums:\n",
    "            count[num] = count.get(num, 0) + 1\n",
    "\n",
    "        # find the duplicate and missing numbers\n",
    "        for num in range(1, len(nums) + 1):\n",
    "            if num in count:\n",
    "                if count[num] == 2:\n",
    "                    duplicate = num\n",
    "            else:\n",
    "                missing = num\n",
    "\n",
    "        return [duplicate, missing]\n",
    "\n",
    "# Example usage\n",
    "nums = [1, 2, 2, 4]\n",
    "solution = Solution()\n",
    "result = solution.findErrorNums(nums)\n",
    "print(\"Result:\", result)\n"
   ]
  },
  {
   "cell_type": "markdown",
   "id": "8b73f1ef-8399-4e81-9502-f3ebd9942a78",
   "metadata": {},
   "source": [
    "### In the given example, the array nums = [1, 2, 2, 4] contains a duplicate number 2 and a missing number 3. Therefore, the function returns [2, 3]"
   ]
  },
  {
   "cell_type": "code",
   "execution_count": 9,
   "id": "dca0e548-232b-4419-8f1e-7159ca93e8cd",
   "metadata": {},
   "outputs": [
    {
     "name": "stdout",
     "output_type": "stream",
     "text": [
      "Result: [2, 3]\n"
     ]
    }
   ],
   "source": [
    "class Solution:\n",
    "    def findErrorNums(self, nums: List[int]) -> List[int]:\n",
    "        num = len(nums)\n",
    "        duplicate = -1\n",
    "        missing = -1\n",
    "        for num in nums:\n",
    "            if nums[abs(num) - 1] < 0:\n",
    "                duplicate = abs(num)\n",
    "            else:\n",
    "                nums[abs(num) - 1] *= -1\n",
    "        for i in range(num):\n",
    "            if nums[i] > 0:\n",
    "                missing = i + 1\n",
    "        return [duplicate, missing]\n",
    "\n",
    "# Example usage\n",
    "nums = [1, 2, 2, 4]\n",
    "solution = Solution()\n",
    "result = solution.findErrorNums(nums)\n",
    "print(\"Result:\", result)"
   ]
  },
  {
   "cell_type": "code",
   "execution_count": null,
   "id": "9aaa5f06-3b5d-4464-b084-a0da6507a87a",
   "metadata": {},
   "outputs": [],
   "source": []
  }
 ],
 "metadata": {
  "kernelspec": {
   "display_name": "Python 3 (ipykernel)",
   "language": "python",
   "name": "python3"
  },
  "language_info": {
   "codemirror_mode": {
    "name": "ipython",
    "version": 3
   },
   "file_extension": ".py",
   "mimetype": "text/x-python",
   "name": "python",
   "nbconvert_exporter": "python",
   "pygments_lexer": "ipython3",
   "version": "3.10.8"
  }
 },
 "nbformat": 4,
 "nbformat_minor": 5
}
